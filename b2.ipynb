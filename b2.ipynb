{
 "cells": [
  {
   "cell_type": "code",
   "execution_count": 1,
   "id": "187c26c1-b3f2-4c23-9201-5525fab47ea6",
   "metadata": {},
   "outputs": [
    {
     "data": {
      "text/plain": [
       "defaultdict(int, {})"
      ]
     },
     "execution_count": 1,
     "metadata": {},
     "output_type": "execute_result"
    }
   ],
   "source": [
    "from collections import defaultdict\n",
    "\n",
    "word_counts = defaultdict(int)\n",
    "word_counts"
   ]
  },
  {
   "cell_type": "code",
   "execution_count": 2,
   "id": "679a1430-e73d-4461-bfc3-aa95d81faaa8",
   "metadata": {},
   "outputs": [
    {
     "data": {
      "text/plain": [
       "defaultdict(list, {})"
      ]
     },
     "execution_count": 2,
     "metadata": {},
     "output_type": "execute_result"
    }
   ],
   "source": [
    "dd_list = defaultdict(list)\n",
    "dd_list"
   ]
  },
  {
   "cell_type": "code",
   "execution_count": 3,
   "id": "17f96d43-5ab9-4739-ac0a-d1c7986d8b27",
   "metadata": {},
   "outputs": [
    {
     "data": {
      "text/plain": [
       "defaultdict(list, {'chien': 2, 2: [2]})"
      ]
     },
     "execution_count": 3,
     "metadata": {},
     "output_type": "execute_result"
    }
   ],
   "source": [
    "dd_list['chien'] = 2\n",
    "dd_list[2].append(2)\n",
    "dd_list"
   ]
  },
  {
   "cell_type": "code",
   "execution_count": 4,
   "id": "03b55a6d-45bf-46ae-9555-654c5fd5478a",
   "metadata": {},
   "outputs": [],
   "source": [
    "my_str = \"On the other hand, we denounce with righteous indignation and dislike men who are so beguiled and demoralized by the charms of pleasure of the moment, so blinded by desire, that they cannot foresee the pain and trouble that are bound to ensue; and equal blame belongs to those who fail in their duty through weakness of will, which is the same as saying through shrinking from toil and pain. These cases are perfectly simple and easy to distinguish. In a free hour, when our power of choice is untrammelled and when nothing prevents our being able to do what we like best, every pleasure is to be welcomed and every pain avoided. But in certain circumstances and owing to the claims of duty or the obligations of business it will frequently occur that pleasures have to be repudiated and annoyances accepted. The wise man therefore always holds in these matters to this principle of selection: he rejects pleasures to secure other greater pleasures, or else he endures pains to avoid worse pains.\""
   ]
  },
  {
   "cell_type": "code",
   "execution_count": 5,
   "id": "0922ace9-dc46-4279-81af-fa86b7ea9d52",
   "metadata": {},
   "outputs": [
    {
     "data": {
      "text/plain": [
       "Counter({'On': 1,\n",
       "         'the': 7,\n",
       "         'other': 2,\n",
       "         'hand,': 1,\n",
       "         'we': 2,\n",
       "         'denounce': 1,\n",
       "         'with': 1,\n",
       "         'righteous': 1,\n",
       "         'indignation': 1,\n",
       "         'and': 10,\n",
       "         'dislike': 1,\n",
       "         'men': 1,\n",
       "         'who': 2,\n",
       "         'are': 3,\n",
       "         'so': 2,\n",
       "         'beguiled': 1,\n",
       "         'demoralized': 1,\n",
       "         'by': 2,\n",
       "         'charms': 1,\n",
       "         'of': 7,\n",
       "         'pleasure': 2,\n",
       "         'moment,': 1,\n",
       "         'blinded': 1,\n",
       "         'desire,': 1,\n",
       "         'that': 3,\n",
       "         'they': 1,\n",
       "         'cannot': 1,\n",
       "         'foresee': 1,\n",
       "         'pain': 2,\n",
       "         'trouble': 1,\n",
       "         'bound': 1,\n",
       "         'to': 10,\n",
       "         'ensue;': 1,\n",
       "         'equal': 1,\n",
       "         'blame': 1,\n",
       "         'belongs': 1,\n",
       "         'those': 1,\n",
       "         'fail': 1,\n",
       "         'in': 3,\n",
       "         'their': 1,\n",
       "         'duty': 2,\n",
       "         'through': 2,\n",
       "         'weakness': 1,\n",
       "         'will,': 1,\n",
       "         'which': 1,\n",
       "         'is': 3,\n",
       "         'same': 1,\n",
       "         'as': 1,\n",
       "         'saying': 1,\n",
       "         'shrinking': 1,\n",
       "         'from': 1,\n",
       "         'toil': 1,\n",
       "         'pain.': 1,\n",
       "         'These': 1,\n",
       "         'cases': 1,\n",
       "         'perfectly': 1,\n",
       "         'simple': 1,\n",
       "         'easy': 1,\n",
       "         'distinguish.': 1,\n",
       "         'In': 1,\n",
       "         'a': 1,\n",
       "         'free': 1,\n",
       "         'hour,': 1,\n",
       "         'when': 2,\n",
       "         'our': 2,\n",
       "         'power': 1,\n",
       "         'choice': 1,\n",
       "         'untrammelled': 1,\n",
       "         'nothing': 1,\n",
       "         'prevents': 1,\n",
       "         'being': 1,\n",
       "         'able': 1,\n",
       "         'do': 1,\n",
       "         'what': 1,\n",
       "         'like': 1,\n",
       "         'best,': 1,\n",
       "         'every': 2,\n",
       "         'be': 2,\n",
       "         'welcomed': 1,\n",
       "         'avoided.': 1,\n",
       "         'But': 1,\n",
       "         'certain': 1,\n",
       "         'circumstances': 1,\n",
       "         'owing': 1,\n",
       "         'claims': 1,\n",
       "         'or': 2,\n",
       "         'obligations': 1,\n",
       "         'business': 1,\n",
       "         'it': 1,\n",
       "         'will': 1,\n",
       "         'frequently': 1,\n",
       "         'occur': 1,\n",
       "         'pleasures': 2,\n",
       "         'have': 1,\n",
       "         'repudiated': 1,\n",
       "         'annoyances': 1,\n",
       "         'accepted.': 1,\n",
       "         'The': 1,\n",
       "         'wise': 1,\n",
       "         'man': 1,\n",
       "         'therefore': 1,\n",
       "         'always': 1,\n",
       "         'holds': 1,\n",
       "         'these': 1,\n",
       "         'matters': 1,\n",
       "         'this': 1,\n",
       "         'principle': 1,\n",
       "         'selection:': 1,\n",
       "         'he': 2,\n",
       "         'rejects': 1,\n",
       "         'secure': 1,\n",
       "         'greater': 1,\n",
       "         'pleasures,': 1,\n",
       "         'else': 1,\n",
       "         'endures': 1,\n",
       "         'pains': 1,\n",
       "         'avoid': 1,\n",
       "         'worse': 1,\n",
       "         'pains.': 1})"
      ]
     },
     "execution_count": 5,
     "metadata": {},
     "output_type": "execute_result"
    }
   ],
   "source": [
    "from collections import Counter\n",
    "c = Counter(my_str.split(\" \"))\n",
    "c"
   ]
  },
  {
   "cell_type": "code",
   "execution_count": 7,
   "id": "f6a70d16-2068-4aa3-bc86-589b184f9440",
   "metadata": {},
   "outputs": [
    {
     "data": {
      "text/plain": [
       "[('and', 10), ('to', 10), ('the', 7)]"
      ]
     },
     "execution_count": 7,
     "metadata": {},
     "output_type": "execute_result"
    }
   ],
   "source": [
    "c.most_common(3)"
   ]
  },
  {
   "cell_type": "code",
   "execution_count": 9,
   "id": "ff5e6125-a9d4-4566-bb15-a7dce1cf8d22",
   "metadata": {},
   "outputs": [],
   "source": [
    "x = None\n",
    "assert x is None, \"?\""
   ]
  },
  {
   "cell_type": "code",
   "execution_count": 10,
   "id": "165ee0b2-1aa9-4ce6-98f9-8a66109186f3",
   "metadata": {},
   "outputs": [
    {
     "name": "stdout",
     "output_type": "stream",
     "text": [
      "The Zen of Python, by Tim Peters\n",
      "\n",
      "Beautiful is better than ugly.\n",
      "Explicit is better than implicit.\n",
      "Simple is better than complex.\n",
      "Complex is better than complicated.\n",
      "Flat is better than nested.\n",
      "Sparse is better than dense.\n",
      "Readability counts.\n",
      "Special cases aren't special enough to break the rules.\n",
      "Although practicality beats purity.\n",
      "Errors should never pass silently.\n",
      "Unless explicitly silenced.\n",
      "In the face of ambiguity, refuse the temptation to guess.\n",
      "There should be one-- and preferably only one --obvious way to do it.\n",
      "Although that way may not be obvious at first unless you're Dutch.\n",
      "Now is better than never.\n",
      "Although never is often better than *right* now.\n",
      "If the implementation is hard to explain, it's a bad idea.\n",
      "If the implementation is easy to explain, it may be a good idea.\n",
      "Namespaces are one honking great idea -- let's do more of those!\n"
     ]
    }
   ],
   "source": [
    "import this"
   ]
  },
  {
   "cell_type": "code",
   "execution_count": 12,
   "id": "2e7696ff-bf80-4e3d-83f5-eb15c265ba27",
   "metadata": {},
   "outputs": [
    {
     "data": {
      "text/plain": [
       "False"
      ]
     },
     "execution_count": 12,
     "metadata": {},
     "output_type": "execute_result"
    }
   ],
   "source": [
    "all([True, 1, {3}])\n",
    "all([True, 1, {}])\n",
    "any([True, 1, {}])\n",
    "all([])\n",
    "any([])\n",
    "\n",
    "# True, all are truthy\n",
    "# False, {} is falsy\n",
    "# True, True is truthy\n",
    "# True, no falsy elements in the list\n",
    "# False, no truthy elements in the list"
   ]
  },
  {
   "cell_type": "code",
   "execution_count": 13,
   "id": "4e3ddf77-de64-43a4-bde7-a929df8af6ca",
   "metadata": {},
   "outputs": [
    {
     "data": {
      "text/plain": [
       "True"
      ]
     },
     "execution_count": 13,
     "metadata": {},
     "output_type": "execute_result"
    }
   ],
   "source": [
    "all([True, 1, {3}])"
   ]
  },
  {
   "cell_type": "code",
   "execution_count": 14,
   "id": "a74dbb1e-6dbc-4ef8-9737-72e1443912ad",
   "metadata": {},
   "outputs": [
    {
     "data": {
      "text/plain": [
       "False"
      ]
     },
     "execution_count": 14,
     "metadata": {},
     "output_type": "execute_result"
    }
   ],
   "source": [
    "all([True, 1, {}])\n"
   ]
  },
  {
   "cell_type": "code",
   "execution_count": 15,
   "id": "788107f2-8b61-4d70-8771-c629224f6a8d",
   "metadata": {},
   "outputs": [
    {
     "data": {
      "text/plain": [
       "True"
      ]
     },
     "execution_count": 15,
     "metadata": {},
     "output_type": "execute_result"
    }
   ],
   "source": [
    "any([True, 1, {}])\n"
   ]
  },
  {
   "cell_type": "code",
   "execution_count": 16,
   "id": "438e6519-3613-4160-b4c7-34b9f57fedfc",
   "metadata": {},
   "outputs": [
    {
     "data": {
      "text/plain": [
       "True"
      ]
     },
     "execution_count": 16,
     "metadata": {},
     "output_type": "execute_result"
    }
   ],
   "source": [
    "all([])"
   ]
  },
  {
   "cell_type": "code",
   "execution_count": 17,
   "id": "61dc8e73-813c-4f2b-8c9b-d08a0361a04a",
   "metadata": {},
   "outputs": [
    {
     "data": {
      "text/plain": [
       "False"
      ]
     },
     "execution_count": 17,
     "metadata": {},
     "output_type": "execute_result"
    }
   ],
   "source": [
    "any([])\n"
   ]
  },
  {
   "cell_type": "code",
   "execution_count": 18,
   "id": "d44dc55c-175b-4d71-89d7-ca6b0feaef20",
   "metadata": {},
   "outputs": [
    {
     "data": {
      "text/plain": [
       "True"
      ]
     },
     "execution_count": 18,
     "metadata": {},
     "output_type": "execute_result"
    }
   ],
   "source": [
    "all({})"
   ]
  },
  {
   "cell_type": "code",
   "execution_count": 19,
   "id": "3656c947-d8ce-4f7b-99c9-059b642ba243",
   "metadata": {},
   "outputs": [
    {
     "data": {
      "text/plain": [
       "False"
      ]
     },
     "execution_count": 19,
     "metadata": {},
     "output_type": "execute_result"
    }
   ],
   "source": [
    "any({})"
   ]
  },
  {
   "cell_type": "code",
   "execution_count": 20,
   "id": "6aee1914-3f7f-40a1-9169-46000bd3c02c",
   "metadata": {},
   "outputs": [
    {
     "data": {
      "text/plain": [
       "([4, 3, 2, 1], [1, 2, 3, 4])"
      ]
     },
     "execution_count": 20,
     "metadata": {},
     "output_type": "execute_result"
    }
   ],
   "source": [
    "x = [4,3,2,1]\n",
    "y = sorted(x)\n",
    "x, y"
   ]
  },
  {
   "cell_type": "code",
   "execution_count": 22,
   "id": "c73f5f77-4e6a-4204-9938-6cb3e1b81426",
   "metadata": {},
   "outputs": [],
   "source": [
    "x.sort()"
   ]
  },
  {
   "cell_type": "code",
   "execution_count": 23,
   "id": "dbd8d355-35f2-4fbf-861f-bbe202a1aac5",
   "metadata": {},
   "outputs": [
    {
     "data": {
      "text/plain": [
       "[1, 2, 3, 4]"
      ]
     },
     "execution_count": 23,
     "metadata": {},
     "output_type": "execute_result"
    }
   ],
   "source": [
    "x"
   ]
  },
  {
   "cell_type": "code",
   "execution_count": 24,
   "id": "acd52e27-c230-4e5f-b992-daebda091868",
   "metadata": {},
   "outputs": [
    {
     "data": {
      "text/plain": [
       "[(0, 0),\n",
       " (0, 1),\n",
       " (0, 2),\n",
       " (1, 0),\n",
       " (1, 1),\n",
       " (1, 2),\n",
       " (2, 0),\n",
       " (2, 1),\n",
       " (2, 2),\n",
       " (3, 0),\n",
       " (3, 1),\n",
       " (3, 2),\n",
       " (4, 0),\n",
       " (4, 1),\n",
       " (4, 2)]"
      ]
     },
     "execution_count": 24,
     "metadata": {},
     "output_type": "execute_result"
    }
   ],
   "source": [
    "pairs = [(x, y) for x in range(5) for y in range(3)]\n",
    "pairs\n"
   ]
  },
  {
   "cell_type": "code",
   "execution_count": 25,
   "id": "d963acc4-236d-4940-9103-e654d087a735",
   "metadata": {},
   "outputs": [
    {
     "data": {
      "text/plain": [
       "[(0, 1),\n",
       " (0, 2),\n",
       " (0, 3),\n",
       " (0, 4),\n",
       " (1, 2),\n",
       " (1, 3),\n",
       " (1, 4),\n",
       " (2, 3),\n",
       " (2, 4),\n",
       " (3, 4)]"
      ]
     },
     "execution_count": 25,
     "metadata": {},
     "output_type": "execute_result"
    }
   ],
   "source": [
    "pairs = [(x,y) for x in range(5) for y in range(x+1, 5)]\n",
    "pairs"
   ]
  },
  {
   "cell_type": "code",
   "execution_count": 28,
   "id": "9d604ba3-f2d9-4dc4-985d-a0da1e913658",
   "metadata": {},
   "outputs": [],
   "source": [
    "assert 1 + 1 == 2\n",
    "assert 1 + 1 == 2, \"1 + 1 should equal 2 but didn't\""
   ]
  },
  {
   "cell_type": "code",
   "execution_count": null,
   "id": "a8af5030-8608-4426-89aa-916961bcdeea",
   "metadata": {},
   "outputs": [],
   "source": []
  }
 ],
 "metadata": {
  "kernelspec": {
   "display_name": "Python 3",
   "language": "python",
   "name": "python3"
  },
  "language_info": {
   "codemirror_mode": {
    "name": "ipython",
    "version": 3
   },
   "file_extension": ".py",
   "mimetype": "text/x-python",
   "name": "python",
   "nbconvert_exporter": "python",
   "pygments_lexer": "ipython3",
   "version": "3.6.13"
  }
 },
 "nbformat": 4,
 "nbformat_minor": 5
}
